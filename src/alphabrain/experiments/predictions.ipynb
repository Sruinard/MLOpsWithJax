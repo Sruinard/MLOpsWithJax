{
 "cells": [
  {
   "cell_type": "code",
   "execution_count": 1,
   "metadata": {},
   "outputs": [],
   "source": [
    "%load_ext autoreload\n",
    "%autoreload 2"
   ]
  },
  {
   "cell_type": "code",
   "execution_count": 19,
   "metadata": {},
   "outputs": [
    {
     "name": "stdout",
     "output_type": "stream",
     "text": [
      "20+615=117\n"
     ]
    }
   ],
   "source": []
  },
  {
   "cell_type": "code",
   "execution_count": 1,
   "metadata": {},
   "outputs": [
    {
     "name": "stderr",
     "output_type": "stream",
     "text": [
      "Class SystemCreatedStorageAccount: This is an experimental class, and may change at any time. Please see https://aka.ms/azuremlexperimental for more information.\n",
      "Class SystemCreatedAcrAccount: This is an experimental class, and may change at any time. Please see https://aka.ms/azuremlexperimental for more information.\n",
      "Class RegistryOperations: This is an experimental class, and may change at any time. Please see https://aka.ms/azuremlexperimental for more information.\n"
     ]
    }
   ],
   "source": [
    "from alphabrain.mlops.trainer import azure_ml_repo\n",
    "repo = azure_ml_repo.AzureMLRepo()"
   ]
  },
  {
   "cell_type": "code",
   "execution_count": 11,
   "metadata": {},
   "outputs": [
    {
     "data": {
      "text/plain": [
       "<Response [401]>"
      ]
     },
     "execution_count": 11,
     "metadata": {},
     "output_type": "execute_result"
    }
   ],
   "source": [
    "outputs"
   ]
  },
  {
   "cell_type": "code",
   "execution_count": 84,
   "metadata": {},
   "outputs": [
    {
     "data": {
      "text/plain": [
       "(8, 15)"
      ]
     },
     "execution_count": 84,
     "metadata": {},
     "output_type": "execute_result"
    }
   ],
   "source": [
    "encoder_inputs[0].shape"
   ]
  },
  {
   "cell_type": "code",
   "execution_count": 2,
   "metadata": {},
   "outputs": [],
   "source": [
    "out = {\n",
    "    \"predictions\": [\n",
    "        {\n",
    "            \"output_0\": [\n",
    "                [\n",
    "                    -0.763524055,\n",
    "                    0.152623072,\n",
    "                    -1.02401233,\n",
    "                    -1.05689323,\n",
    "                    -0.166451961,\n",
    "                    0.427905113,\n",
    "                    0.0109053403,\n",
    "                    0.218765795,\n",
    "                    0.306892574,\n",
    "                    0.153698638,\n",
    "                    -0.123546414,\n",
    "                    0.376516819,\n",
    "                    0.0234440584,\n",
    "                    0.0472006835,\n",
    "                    -0.822744071\n",
    "                ],\n",
    "                [\n",
    "                    -1.05804086,\n",
    "                    1.06828034,\n",
    "                    -1.2108016,\n",
    "                    -1.23296034,\n",
    "                    0.248847261,\n",
    "                    0.489224732,\n",
    "                    0.0579723492,\n",
    "                    0.12651892,\n",
    "                    0.339993626,\n",
    "                    0.158907279,\n",
    "                    0.0637771934,\n",
    "                    0.573168218,\n",
    "                    0.224824399,\n",
    "                    0.185656622,\n",
    "                    -0.975998342\n",
    "                ],\n",
    "                [\n",
    "                    -1.3778758,\n",
    "                    2.06997919,\n",
    "                    -1.4679575,\n",
    "                    -1.5348928,\n",
    "                    0.383754551,\n",
    "                    0.349606454,\n",
    "                    -0.119596086,\n",
    "                    0.191204935,\n",
    "                    0.255318165,\n",
    "                    0.0615948066,\n",
    "                    0.00205112295,\n",
    "                    0.563374,\n",
    "                    0.293642074,\n",
    "                    0.184823275,\n",
    "                    -1.27935672\n",
    "                ],\n",
    "                [\n",
    "                    -1.57057023,\n",
    "                    3.20667243,\n",
    "                    -1.58510828,\n",
    "                    -1.73874736,\n",
    "                    0.444866598,\n",
    "                    0.207756057,\n",
    "                    -0.245449394,\n",
    "                    0.198374018,\n",
    "                    0.0377292745,\n",
    "                    -0.0327795669,\n",
    "                    -0.15844436,\n",
    "                    0.511159956,\n",
    "                    0.247005865,\n",
    "                    0.0961502269,\n",
    "                    -1.40683389\n",
    "                ],\n",
    "                [\n",
    "                    -1.67465174,\n",
    "                    4.15960646,\n",
    "                    -1.62094057,\n",
    "                    -1.87799072,\n",
    "                    0.456562072,\n",
    "                    0.0892263055,\n",
    "                    -0.34294337,\n",
    "                    0.160256222,\n",
    "                    -0.17186749,\n",
    "                    -0.132558107,\n",
    "                    -0.332867086,\n",
    "                    0.453445584,\n",
    "                    0.173474431,\n",
    "                    0.013892821,\n",
    "                    -1.44039774\n",
    "                ]\n",
    "            ],\n",
    "            \"output_1\": [\n",
    "                [\n",
    "                    0.0,\n",
    "                    0.0,\n",
    "                    0.0,\n",
    "                    0.0,\n",
    "                    0.0,\n",
    "                    1.0,\n",
    "                    0.0,\n",
    "                    0.0,\n",
    "                    0.0,\n",
    "                    0.0,\n",
    "                    0.0,\n",
    "                    0.0,\n",
    "                    0.0,\n",
    "                    0.0,\n",
    "                    0.0\n",
    "                ],\n",
    "                [\n",
    "                    0.0,\n",
    "                    1.0,\n",
    "                    0.0,\n",
    "                    0.0,\n",
    "                    0.0,\n",
    "                    0.0,\n",
    "                    0.0,\n",
    "                    0.0,\n",
    "                    0.0,\n",
    "                    0.0,\n",
    "                    0.0,\n",
    "                    0.0,\n",
    "                    0.0,\n",
    "                    0.0,\n",
    "                    0.0\n",
    "                ],\n",
    "                [\n",
    "                    0.0,\n",
    "                    1.0,\n",
    "                    0.0,\n",
    "                    0.0,\n",
    "                    0.0,\n",
    "                    0.0,\n",
    "                    0.0,\n",
    "                    0.0,\n",
    "                    0.0,\n",
    "                    0.0,\n",
    "                    0.0,\n",
    "                    0.0,\n",
    "                    0.0,\n",
    "                    0.0,\n",
    "                    0.0\n",
    "                ],\n",
    "                [\n",
    "                    0.0,\n",
    "                    1.0,\n",
    "                    0.0,\n",
    "                    0.0,\n",
    "                    0.0,\n",
    "                    0.0,\n",
    "                    0.0,\n",
    "                    0.0,\n",
    "                    0.0,\n",
    "                    0.0,\n",
    "                    0.0,\n",
    "                    0.0,\n",
    "                    0.0,\n",
    "                    0.0,\n",
    "                    0.0\n",
    "                ],\n",
    "                [\n",
    "                    0.0,\n",
    "                    1.0,\n",
    "                    0.0,\n",
    "                    0.0,\n",
    "                    0.0,\n",
    "                    0.0,\n",
    "                    0.0,\n",
    "                    0.0,\n",
    "                    0.0,\n",
    "                    0.0,\n",
    "                    0.0,\n",
    "                    0.0,\n",
    "                    0.0,\n",
    "                    0.0,\n",
    "                    0.0\n",
    "                ]\n",
    "            ]\n",
    "        }\n",
    "    ]\n",
    "}"
   ]
  },
  {
   "cell_type": "code",
   "execution_count": 17,
   "metadata": {},
   "outputs": [
    {
     "data": {
      "text/plain": [
       "array(['1'], dtype='<U1')"
      ]
     },
     "execution_count": 17,
     "metadata": {},
     "output_type": "execute_result"
    }
   ],
   "source": []
  },
  {
   "cell_type": "code",
   "execution_count": null,
   "metadata": {},
   "outputs": [],
   "source": []
  }
 ],
 "metadata": {
  "kernelspec": {
   "display_name": "Python 3.8.14 ('alphabrain-yltZ7iXU-py3.8')",
   "language": "python",
   "name": "python3"
  },
  "language_info": {
   "codemirror_mode": {
    "name": "ipython",
    "version": 3
   },
   "file_extension": ".py",
   "mimetype": "text/x-python",
   "name": "python",
   "nbconvert_exporter": "python",
   "pygments_lexer": "ipython3",
   "version": "3.8.14"
  },
  "orig_nbformat": 4,
  "vscode": {
   "interpreter": {
    "hash": "0da3ff22d6c620019ed9c0e02452ffd9595a6b078480faf335c9548ffc6675c1"
   }
  }
 },
 "nbformat": 4,
 "nbformat_minor": 2
}
